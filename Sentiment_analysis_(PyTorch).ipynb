{
  "nbformat": 4,
  "nbformat_minor": 0,
  "metadata": {
    "colab": {
      "provenance": []
    },
    "kernelspec": {
      "name": "python3",
      "display_name": "Python 3"
    },
    "language_info": {
      "name": "python"
    },
    "accelerator": "GPU"
  },
  "cells": [
    {
      "cell_type": "code",
      "metadata": {
        "id": "6hoO10bRjBe5"
      },
      "source": [
        "#load and visualize the data\n",
        "import numpy as np\n",
        "#read data from text files\n",
        "\n",
        "with open(\"/content/drive/MyDrive/deep-learning-v2-pytorch/sentiment-rnn/data/reviews.txt\")as f:\n",
        "  reviews = f.read()\n",
        "\n",
        "with open(\"/content/drive/MyDrive/deep-learning-v2-pytorch/sentiment-rnn/data/labels.txt\")as f:\n",
        "  labels = f.read()"
      ],
      "execution_count": null,
      "outputs": []
    },
    {
      "cell_type": "code",
      "metadata": {
        "colab": {
          "base_uri": "https://localhost:8080/"
        },
        "id": "_wn4IuqZo1N0",
        "outputId": "c562abd7-58b5-4af1-e5bc-1e7fb258873c"
      },
      "source": [
        "print(reviews[:1000])\n",
        "print()\n",
        "print(labels[:20])"
      ],
      "execution_count": null,
      "outputs": [
        {
          "output_type": "stream",
          "text": [
            "bromwell high is a cartoon comedy . it ran at the same time as some other programs about school life  such as  teachers  . my   years in the teaching profession lead me to believe that bromwell high  s satire is much closer to reality than is  teachers  . the scramble to survive financially  the insightful students who can see right through their pathetic teachers  pomp  the pettiness of the whole situation  all remind me of the schools i knew and their students . when i saw the episode in which a student repeatedly tried to burn down the school  i immediately recalled . . . . . . . . . at . . . . . . . . . . high . a classic line inspector i  m here to sack one of your teachers . student welcome to bromwell high . i expect that many adults of my age think that bromwell high is far fetched . what a pity that it isn  t   \n",
            "story of a man who has unnatural feelings for a pig . starts out with a opening scene that is a terrific example of absurd comedy . a formal orchestra audience is turn\n",
            "\n",
            "positive\n",
            "negative\n",
            "po\n"
          ],
          "name": "stdout"
        }
      ]
    },
    {
      "cell_type": "code",
      "metadata": {
        "id": "-54qJVPbpKeF"
      },
      "source": [
        "#get rid of punctuation\n",
        "from string import punctuation\n",
        "\n",
        "reviews = reviews.lower() #lowercase, standardize\n",
        "all_text = \"\".join([c for c in reviews if c not in punctuation])\n",
        "\n",
        "#split by new lines and spaces\n",
        "reviews_split = all_text.split(\"\\n\")\n",
        "all_text = \"\".join(reviews_split)\n",
        "\n",
        "#create a list of words\n",
        "words = all_text.split()"
      ],
      "execution_count": null,
      "outputs": []
    },
    {
      "cell_type": "code",
      "metadata": {
        "colab": {
          "base_uri": "https://localhost:8080/"
        },
        "id": "Yu6JX4IupwJ2",
        "outputId": "5d81b60f-207d-4914-af41-a5508d3495df"
      },
      "source": [
        "words[:30]"
      ],
      "execution_count": null,
      "outputs": [
        {
          "output_type": "execute_result",
          "data": {
            "text/plain": [
              "['bromwell',\n",
              " 'high',\n",
              " 'is',\n",
              " 'a',\n",
              " 'cartoon',\n",
              " 'comedy',\n",
              " 'it',\n",
              " 'ran',\n",
              " 'at',\n",
              " 'the',\n",
              " 'same',\n",
              " 'time',\n",
              " 'as',\n",
              " 'some',\n",
              " 'other',\n",
              " 'programs',\n",
              " 'about',\n",
              " 'school',\n",
              " 'life',\n",
              " 'such',\n",
              " 'as',\n",
              " 'teachers',\n",
              " 'my',\n",
              " 'years',\n",
              " 'in',\n",
              " 'the',\n",
              " 'teaching',\n",
              " 'profession',\n",
              " 'lead',\n",
              " 'me']"
            ]
          },
          "metadata": {
            "tags": []
          },
          "execution_count": 4
        }
      ]
    },
    {
      "cell_type": "code",
      "metadata": {
        "id": "cH4_907Cp0L0"
      },
      "source": [
        "#Encoding the words\n",
        "from collections import Counter\n",
        "\n",
        "##Build a dictionary that maps words to intergers\n",
        "counts = Counter(words)\n",
        "vocab = sorted(counts, key=counts.get, reverse= True)\n",
        "vocab_to_int = {word: ii for ii, word in enumerate(vocab, 1)}\n",
        "\n",
        "## use the dict to tokenize each review in revies_split\n",
        "## store the tokenized reviews in reviews_ints\n",
        "reviews_ints = []\n",
        "\n",
        "for review in reviews_split:\n",
        "  reviews_ints.append([vocab_to_int[word] for word in review.split()])\n"
      ],
      "execution_count": null,
      "outputs": []
    },
    {
      "cell_type": "code",
      "metadata": {
        "colab": {
          "base_uri": "https://localhost:8080/"
        },
        "id": "7d7jzzUarF2H",
        "outputId": "bebc6f1d-443f-4ce3-9cb8-dca542f7c714"
      },
      "source": [
        "#stats about vocabulary\n",
        "print(\"Unique words : \", len((vocab_to_int)))\n",
        "print()"
      ],
      "execution_count": null,
      "outputs": [
        {
          "output_type": "stream",
          "text": [
            "Unique words :  74072\n",
            "\n"
          ],
          "name": "stdout"
        }
      ]
    },
    {
      "cell_type": "code",
      "metadata": {
        "colab": {
          "base_uri": "https://localhost:8080/"
        },
        "id": "W9g0UZFqr_1O",
        "outputId": "0b148f53-65df-4ccb-ee4c-7b3bb2a19c44"
      },
      "source": [
        "print(\"Tokenized review: \\n\", reviews_ints[:1])"
      ],
      "execution_count": null,
      "outputs": [
        {
          "output_type": "stream",
          "text": [
            "Tokenized review: \n",
            " [[21025, 308, 6, 3, 1050, 207, 8, 2138, 32, 1, 171, 57, 15, 49, 81, 5785, 44, 382, 110, 140, 15, 5194, 60, 154, 9, 1, 4975, 5852, 475, 71, 5, 260, 12, 21025, 308, 13, 1978, 6, 74, 2395, 5, 613, 73, 6, 5194, 1, 24103, 5, 1983, 10166, 1, 5786, 1499, 36, 51, 66, 204, 145, 67, 1199, 5194, 19869, 1, 37442, 4, 1, 221, 883, 31, 2988, 71, 4, 1, 5787, 10, 686, 2, 67, 1499, 54, 10, 216, 1, 383, 9, 62, 3, 1406, 3686, 783, 5, 3483, 180, 1, 382, 10, 1212, 13583, 32, 308, 3, 349, 341, 2913, 10, 143, 127, 5, 7690, 30, 4, 129, 5194, 1406, 2326, 5, 21025, 308, 10, 528, 12, 109, 1448, 4, 60, 543, 102, 12, 21025, 308, 6, 227, 4146, 48, 3, 2211, 12, 8, 215, 23]]\n"
          ],
          "name": "stdout"
        }
      ]
    },
    {
      "cell_type": "code",
      "metadata": {
        "id": "i8rHCyN6sZmO"
      },
      "source": [
        "labels_split = labels.split(\"\\n\")\n",
        "encoded_labels = np.array([1 if label == \"positive\" else 0 for label in labels_split])"
      ],
      "execution_count": null,
      "outputs": []
    },
    {
      "cell_type": "code",
      "metadata": {
        "colab": {
          "base_uri": "https://localhost:8080/"
        },
        "id": "rrHbF4rNs3Fh",
        "outputId": "5895d2bf-0de8-478f-9ffe-332b80757df3"
      },
      "source": [
        "#outlier review stats\n",
        "review_lens = Counter([len(x) for x in reviews_ints])\n",
        "print(\"Zero_lenght reviews : {}\".format(review_lens[0]))\n",
        "print(\"Maximum review length : {}\".format(max(review_lens)))"
      ],
      "execution_count": null,
      "outputs": [
        {
          "output_type": "stream",
          "text": [
            "Zero_lenght reviews : 1\n",
            "Maximum review length : 2514\n"
          ],
          "name": "stdout"
        }
      ]
    },
    {
      "cell_type": "code",
      "metadata": {
        "colab": {
          "base_uri": "https://localhost:8080/"
        },
        "id": "PjLIiC7ltVP6",
        "outputId": "50126725-cd9c-49c5-e2d1-1ad0fcad6a5a"
      },
      "source": [
        "print(\"Numer of reviews before removing outliers : \", len(reviews_ints))\n",
        "\n",
        "## remove any reviews/labels with zero lenght from the reviews_inits list\n",
        "\n",
        "#get indices of any review with lenght 0\n",
        "non_zero_idx = [ii for ii, review in enumerate(reviews_ints) if len(review) != 0]\n",
        "\n",
        "#remove 0 - length reviews and their lables\n",
        "reviews_ints = [reviews_ints[ii] for ii in non_zero_idx]\n",
        "encoded_labels = np.array([encoded_labels[ii] for ii in non_zero_idx])\n",
        "\n",
        "print(\"Number of reviews after removing outliers : \", len(reviews_ints))"
      ],
      "execution_count": null,
      "outputs": [
        {
          "output_type": "stream",
          "text": [
            "Numer of reviews before removing outliers :  25001\n",
            "Number of reviews after removing outliers :  25000\n"
          ],
          "name": "stdout"
        }
      ]
    },
    {
      "cell_type": "code",
      "metadata": {
        "id": "-U341V4NupUw"
      },
      "source": [
        "def pad_features(reviews_ints, seq_length):\n",
        "  \"\"\"\n",
        "  Return features of review_ints, where each review is padded with 0's\n",
        "  or truncated to the input seq_length.\n",
        "\n",
        "  \"\"\"\n",
        "\n",
        "  #getting the correct row x cols shape\n",
        "  features = np.zeros((len(reviews_ints), seq_length), dtype = int)\n",
        "\n",
        "  # for each review,\n",
        "  for i, row in enumerate(reviews_ints):\n",
        "    features[i, -len(row):] = np.array(row)[:seq_length]\n",
        "\n",
        "  return features\n"
      ],
      "execution_count": null,
      "outputs": []
    },
    {
      "cell_type": "code",
      "metadata": {
        "colab": {
          "base_uri": "https://localhost:8080/"
        },
        "id": "6wl1iZYJx6Ge",
        "outputId": "087fca3e-1282-4771-8417-c34b5bac6506"
      },
      "source": [
        "#Test the implementation!\n",
        "\n",
        "seq_length = 200\n",
        "\n",
        "features = pad_features(reviews_ints, seq_length = seq_length)\n",
        "\n",
        "assert len(features) == len(reviews_ints), \"Features should have as many rows as reviews\"\n",
        "assert len(features[0]) == seq_length, \"Each feature should contain seq_lenght values\"\n",
        "\n",
        "print(features[:30, :10])"
      ],
      "execution_count": null,
      "outputs": [
        {
          "output_type": "stream",
          "text": [
            "[[    0     0     0     0     0     0     0     0     0     0]\n",
            " [    0     0     0     0     0     0     0     0     0     0]\n",
            " [22382    42 46418    15   706 17139  3389    47    77    35]\n",
            " [ 4505   505    15     3  3342   162  8312  1652     6  4819]\n",
            " [    0     0     0     0     0     0     0     0     0     0]\n",
            " [    0     0     0     0     0     0     0     0     0     0]\n",
            " [    0     0     0     0     0     0     0     0     0     0]\n",
            " [    0     0     0     0     0     0     0     0     0     0]\n",
            " [    0     0     0     0     0     0     0     0     0     0]\n",
            " [   54    10    14   116    60   798   552    71   364     5]\n",
            " [    0     0     0     0     0     0     0     0     0     0]\n",
            " [    0     0     0     0     0     0     0     0     0     0]\n",
            " [    0     0     0     0     0     0     0     0     0     0]\n",
            " [    1   330   578    34     3   162   748  2731     9   325]\n",
            " [    9    11 10171  5305  1946   689   444    22   280   673]\n",
            " [    0     0     0     0     0     0     0     0     0     0]\n",
            " [    1   307 10399  2069  1565  6202  6528  3288 17946 10628]\n",
            " [    0     0     0     0     0     0     0     0     0     0]\n",
            " [   21   122  2069  1565   515  8181    88     6  1325  1182]\n",
            " [    1    20     6    76    40     6    58    81    95     5]\n",
            " [   54    10    84   329 26230 46427    63    10    14   614]\n",
            " [   11    20     6    30  1436 32317  3769   690 15100     6]\n",
            " [    0     0     0     0     0     0     0     0     0     0]\n",
            " [    0     0     0     0     0     0     0     0     0     0]\n",
            " [   40    26   109 17952  1422     9     1   327     4   125]\n",
            " [    0     0     0     0     0     0     0     0     0     0]\n",
            " [   10   499     1   307 10399    55    74     8    13    30]\n",
            " [    0     0     0     0     0     0     0     0     0     0]\n",
            " [    0     0     0     0     0     0     0     0     0     0]\n",
            " [    0     0     0     0     0     0     0     0     0     0]]\n"
          ],
          "name": "stdout"
        }
      ]
    },
    {
      "cell_type": "code",
      "metadata": {
        "colab": {
          "base_uri": "https://localhost:8080/"
        },
        "id": "C58AMxttyUWz",
        "outputId": "9262da42-56b6-4348-ce09-032c2772e22d"
      },
      "source": [
        "## split data into training, validation, and test data (features and labels, x and y)\n",
        "\n",
        "split_frac = 0.8\n",
        "\n",
        "split_idx = int(len(features) * split_frac)\n",
        "train_x, remaining_x = features[:split_idx], features[split_idx:]\n",
        "train_y, remaining_y = encoded_labels[:split_idx], encoded_labels[split_idx:]\n",
        "\n",
        "test_idx = int(len(remaining_x) * 0.5)\n",
        "val_x, test_x = remaining_x[:test_idx], remaining_x[test_idx:]\n",
        "val_y, test_y = remaining_y[:test_idx], remaining_y[test_idx:]\n",
        "\n",
        "## print out the shapes of resultant feature data\n",
        "print(\"\\t\\t\\tFeature Shapes:\")\n",
        "print(\"Train set : \\t\\t{}\".format(train_x.shape),\n",
        "      \"\\nValidation set : \\t{}\".format(val_x.shape),\n",
        "      \"\\nTest set: \\t{}\".format(test_x.shape)\n",
        "      )"
      ],
      "execution_count": null,
      "outputs": [
        {
          "output_type": "stream",
          "text": [
            "\t\t\tFeature Shapes:\n",
            "Train set : \t\t(20000, 200) \n",
            "Validation set : \t(2500, 200) \n",
            "Test set: \t(2500, 200)\n"
          ],
          "name": "stdout"
        }
      ]
    },
    {
      "cell_type": "code",
      "metadata": {
        "id": "zfTqZ9mO0H9C"
      },
      "source": [
        "#Dataloader and Batching\n",
        "import torch\n",
        "from torch.utils.data import TensorDataset, DataLoader\n",
        "\n",
        "# create Tensor Datasets\n",
        "train_data = TensorDataset(torch.from_numpy(train_x), torch.from_numpy(train_y))\n",
        "valid_data = TensorDataset(torch.from_numpy(val_x), torch.from_numpy(val_y))\n",
        "test_data = TensorDataset(torch.from_numpy(test_x), torch.from_numpy(test_y))"
      ],
      "execution_count": null,
      "outputs": []
    },
    {
      "cell_type": "code",
      "metadata": {
        "id": "S10jyvDn2dTm"
      },
      "source": [
        "#dataloaders\n",
        "batch_size = 50\n",
        "\n",
        "#make sure the SHUFFLE training data\n",
        "train_loader = DataLoader(train_data, shuffle = True, batch_size= batch_size)\n",
        "valid_loader = DataLoader(valid_data, shuffle= True, batch_size = batch_size)\n",
        "test_loader = DataLoader(test_data, shuffle = True, batch_size = batch_size)"
      ],
      "execution_count": null,
      "outputs": []
    },
    {
      "cell_type": "code",
      "metadata": {
        "colab": {
          "base_uri": "https://localhost:8080/"
        },
        "id": "qurskYYj274Q",
        "outputId": "75d51f11-76eb-4336-d22a-667f54cb9370"
      },
      "source": [
        "#obtain one batch of training data for checking\n",
        "dataiter = iter(train_loader)\n",
        "sample_x, sample_y = dataiter.next()\n",
        "\n",
        "print(\"Sample input size : \", sample_x.size()) #batch_size, seq_length\n",
        "print(\"Sample input : \\n\", sample_x)\n",
        "print()\n",
        "print(\"Sample label size : \", sample_y.size()) #batch_size\n",
        "print(\"Sample label : \\n\", sample_y)"
      ],
      "execution_count": null,
      "outputs": [
        {
          "output_type": "stream",
          "text": [
            "Sample input size :  torch.Size([50, 200])\n",
            "Sample input : \n",
            " tensor([[  10,   80,   24,  ..., 3738,   17,   55],\n",
            "        [   0,    0,    0,  ...,    1,  232,  154],\n",
            "        [   0,    0,    0,  ...,   11, 3898, 1128],\n",
            "        ...,\n",
            "        [   3,  184, 1596,  ...,   10,  195,    8],\n",
            "        [   0,    0,    0,  ...,   19,  120,  544],\n",
            "        [   0,    0,    0,  ...,  105,    2,  353]])\n",
            "\n",
            "Sample label size :  torch.Size([50])\n",
            "Sample label : \n",
            " tensor([0, 0, 0, 1, 1, 1, 1, 1, 0, 0, 1, 0, 1, 1, 0, 1, 1, 1, 1, 1, 0, 0, 0, 1,\n",
            "        0, 1, 0, 0, 1, 0, 1, 1, 1, 0, 1, 1, 1, 0, 0, 1, 1, 1, 1, 1, 0, 0, 1, 0,\n",
            "        0, 1])\n"
          ],
          "name": "stdout"
        }
      ]
    },
    {
      "cell_type": "code",
      "metadata": {
        "colab": {
          "base_uri": "https://localhost:8080/"
        },
        "id": "ByJ-rCPN3fjo",
        "outputId": "76716716-7b28-48d4-b94c-daed32d8984a"
      },
      "source": [
        "#check if GPU is available\n",
        "train_on_gpu = torch.cuda.is_available()\n",
        "\n",
        "if (train_on_gpu):\n",
        "  print(\"Training on GPU.\")\n",
        "else:\n",
        "  print(\"No GPU available, training on CPU.\")"
      ],
      "execution_count": null,
      "outputs": [
        {
          "output_type": "stream",
          "text": [
            "Training on GPU.\n"
          ],
          "name": "stdout"
        }
      ]
    },
    {
      "cell_type": "code",
      "metadata": {
        "id": "2TDkclIz92SI"
      },
      "source": [
        "import torch.nn as nn\n",
        "\n",
        "class SentimentRNN(nn.Module):\n",
        "    \"\"\"\n",
        "    The RNN model that will be used to perform Sentiment analysis.\n",
        "    \"\"\"\n",
        "\n",
        "    def __init__(self, vocab_size, output_size, embedding_dim, hidden_dim, n_layers, drop_prob=0.5):\n",
        "        \"\"\"\n",
        "        Initialize the model by setting up the layers.\n",
        "        \"\"\"\n",
        "        super(SentimentRNN, self).__init__()\n",
        "\n",
        "        self.output_size = output_size\n",
        "        self.n_layers = n_layers\n",
        "        self.hidden_dim = hidden_dim\n",
        "\n",
        "        # embedding and LSTM layers\n",
        "        self.embedding = nn.Embedding(vocab_size, embedding_dim)\n",
        "        self.lstm = nn.LSTM(embedding_dim, hidden_dim, n_layers,\n",
        "                            dropout=drop_prob, batch_first=True)\n",
        "\n",
        "        # dropout layer\n",
        "        self.dropout = nn.Dropout(0.3)\n",
        "\n",
        "        # linear and sigmoid layers\n",
        "        self.fc = nn.Linear(hidden_dim, output_size)\n",
        "        self.sig = nn.Sigmoid()\n",
        "\n",
        "\n",
        "    def forward(self, x, hidden):\n",
        "        \"\"\"\n",
        "        Perform a forward pass of our model on some input and hidden state.\n",
        "        \"\"\"\n",
        "        batch_size = x.size(0)\n",
        "\n",
        "        # embeddings and lstm_out\n",
        "        x = x.long()\n",
        "        embeds = self.embedding(x)\n",
        "        lstm_out, hidden = self.lstm(embeds, hidden)\n",
        "\n",
        "        lstm_out = lstm_out[:, -1, :] # getting the last time step output\n",
        "\n",
        "        # dropout and fully-connected layer\n",
        "        out = self.dropout(lstm_out)\n",
        "        out = self.fc(out)\n",
        "        # sigmoid function\n",
        "        sig_out = self.sig(out)\n",
        "\n",
        "        # return last sigmoid output and hidden state\n",
        "        return sig_out, hidden\n",
        "\n",
        "\n",
        "    def init_hidden(self, batch_size):\n",
        "        ''' Initializes hidden state '''\n",
        "        # Create two new tensors with sizes n_layers x batch_size x hidden_dim,\n",
        "        # initialized to zero, for hidden state and cell state of LSTM\n",
        "        weight = next(self.parameters()).data\n",
        "\n",
        "        if (train_on_gpu):\n",
        "            hidden = (weight.new(self.n_layers, batch_size, self.hidden_dim).zero_().cuda(),\n",
        "                  weight.new(self.n_layers, batch_size, self.hidden_dim).zero_().cuda())\n",
        "        else:\n",
        "            hidden = (weight.new(self.n_layers, batch_size, self.hidden_dim).zero_(),\n",
        "                      weight.new(self.n_layers, batch_size, self.hidden_dim).zero_())\n",
        "\n",
        "        return hidden\n",
        ""
      ],
      "execution_count": null,
      "outputs": []
    },
    {
      "cell_type": "code",
      "metadata": {
        "id": "haAZbF_xCNEV"
      },
      "source": [
        "#Instantiate the network\n",
        "\n",
        "vocab_size = len(vocab_to_int) +1 # +1 for the 0 padding + our word tokens\n",
        "output_size = 1\n",
        "embedding_dim = 400\n",
        "hidden_dim = 256\n",
        "n_layers = 2"
      ],
      "execution_count": null,
      "outputs": []
    },
    {
      "cell_type": "code",
      "metadata": {
        "colab": {
          "base_uri": "https://localhost:8080/"
        },
        "id": "-kj5-55pHoAl",
        "outputId": "414bf450-3c3b-4a20-d584-4b4d14436a83"
      },
      "source": [
        "net = SentimentRNN(vocab_size, output_size, embedding_dim, hidden_dim, n_layers)\n",
        "\n",
        "print(net)"
      ],
      "execution_count": null,
      "outputs": [
        {
          "output_type": "stream",
          "text": [
            "SentimentRNN(\n",
            "  (embedding): Embedding(74073, 400)\n",
            "  (lstm): LSTM(400, 256, num_layers=2, batch_first=True, dropout=0.5)\n",
            "  (dropout): Dropout(p=0.3, inplace=False)\n",
            "  (fc): Linear(in_features=256, out_features=1, bias=True)\n",
            "  (sig): Sigmoid()\n",
            ")\n"
          ],
          "name": "stdout"
        }
      ]
    },
    {
      "cell_type": "code",
      "metadata": {
        "id": "_ueauuj_HwGY"
      },
      "source": [
        "#loss and optimization function s\n",
        "lr = 0.001\n",
        "\n",
        "criterion = nn.BCELoss()\n",
        "optimizer = torch.optim.Adam(net.parameters(), lr = lr)"
      ],
      "execution_count": null,
      "outputs": []
    },
    {
      "cell_type": "code",
      "metadata": {
        "colab": {
          "base_uri": "https://localhost:8080/"
        },
        "id": "zoI5bR9kIBvD",
        "outputId": "2fd44201-469a-47d9-a096-40105cc1fbe6"
      },
      "source": [
        "# training params\n",
        "\n",
        "epochs = 4\n",
        "\n",
        "counter = 0\n",
        "print_every = 100\n",
        "clip = 5 #gradient clipping\n",
        "\n",
        "#move model to GPU, if available\n",
        "if (train_on_gpu):\n",
        "  net.cuda()\n",
        "\n",
        "net.train()\n",
        "\n",
        "for e in range(epochs):\n",
        "\n",
        "  h = net.init_hidden(batch_size)\n",
        "\n",
        "  for inputs, labels in train_loader:\n",
        "    counter += 1\n",
        "\n",
        "    if (train_on_gpu):\n",
        "      inputs, labels = inputs.cuda(), labels.cuda()\n",
        "\n",
        "    #creating new variables for the hidden state, otherwise\n",
        "    #we'd backprop through the entire history\n",
        "\n",
        "    h = tuple([each.data for each in h])\n",
        "\n",
        "    net.zero_grad()\n",
        "\n",
        "    output, h = net(inputs, h)\n",
        "\n",
        "    loss = criterion(output.squeeze(), labels.float())\n",
        "\n",
        "    loss.backward()\n",
        "\n",
        "    nn.utils.clip_grad_norm_(net.parameters(), clip)\n",
        "\n",
        "    optimizer.step()\n",
        "\n",
        "    if counter % print_every == 0:\n",
        "      #get validation loss\n",
        "      val_h = net.init_hidden(batch_size)\n",
        "      val_losses = []\n",
        "\n",
        "      net.eval()\n",
        "\n",
        "      for inputs, labels in valid_loader:\n",
        "\n",
        "        val_h = tuple([each.data for each in val_h])\n",
        "\n",
        "        if (train_on_gpu):\n",
        "          inputs, labels = inputs.cuda(), labels.cuda()\n",
        "\n",
        "        output, val_h = net(inputs, val_h)\n",
        "\n",
        "        val_loss = criterion(output.squeeze(), labels.float())\n",
        "\n",
        "        val_losses.append(val_loss.item())\n",
        "\n",
        "      net.train()\n",
        "      print(\"Epoch: {}/{}...\".format(e+1, epochs),\n",
        "                  \"Step: {}...\".format(counter),\n",
        "                  \"Loss: {:.6f}...\".format(loss.item()),\n",
        "                  \"Val Loss: {:.6f}\".format(np.mean(val_losses)))"
      ],
      "execution_count": null,
      "outputs": [
        {
          "output_type": "stream",
          "text": [
            "Epoch: 1/4... Step: 100... Loss: 0.665772... Val Loss: 0.658344\n",
            "Epoch: 1/4... Step: 200... Loss: 0.691676... Val Loss: 0.604925\n",
            "Epoch: 1/4... Step: 300... Loss: 0.566442... Val Loss: 0.578297\n",
            "Epoch: 1/4... Step: 400... Loss: 0.537295... Val Loss: 0.561464\n",
            "Epoch: 2/4... Step: 500... Loss: 0.497997... Val Loss: 0.531638\n",
            "Epoch: 2/4... Step: 600... Loss: 0.558878... Val Loss: 0.559426\n",
            "Epoch: 2/4... Step: 700... Loss: 0.325430... Val Loss: 0.473862\n",
            "Epoch: 2/4... Step: 800... Loss: 0.401487... Val Loss: 0.504922\n",
            "Epoch: 3/4... Step: 900... Loss: 0.242682... Val Loss: 0.502825\n",
            "Epoch: 3/4... Step: 1000... Loss: 0.364459... Val Loss: 0.478515\n",
            "Epoch: 3/4... Step: 1100... Loss: 0.348377... Val Loss: 0.479493\n",
            "Epoch: 3/4... Step: 1200... Loss: 0.148307... Val Loss: 0.478637\n",
            "Epoch: 4/4... Step: 1300... Loss: 0.369976... Val Loss: 0.532164\n",
            "Epoch: 4/4... Step: 1400... Loss: 0.211883... Val Loss: 0.559018\n",
            "Epoch: 4/4... Step: 1500... Loss: 0.171344... Val Loss: 0.596756\n",
            "Epoch: 4/4... Step: 1600... Loss: 0.109371... Val Loss: 0.516972\n"
          ],
          "name": "stdout"
        }
      ]
    },
    {
      "cell_type": "code",
      "metadata": {
        "colab": {
          "base_uri": "https://localhost:8080/"
        },
        "id": "-OMrc2qSMZwp",
        "outputId": "af271892-903f-444c-9cce-665bc9ce05eb"
      },
      "source": [
        "#Testing\n",
        "\n",
        "test_losses = []\n",
        "num_correct = 0\n",
        "\n",
        "#init hidden state\n",
        "h = net.init_hidden(batch_size)\n",
        "\n",
        "net.eval()\n",
        "\n",
        "#iterate over test data\n",
        "for inputs, labels in test_loader:\n",
        "\n",
        "  #creating new variables for the hidden state, otherwise\n",
        "  #we'd backprop through the entire training history\n",
        "  h = tuple([each.data for each in h])\n",
        "\n",
        "  if (train_on_gpu):\n",
        "    inputs, labels = inputs.cuda(), labels.cuda()\n",
        "\n",
        "  #get predicted outputs\n",
        "  output, h = net(inputs, h)\n",
        "\n",
        "  #calculated loss\n",
        "  test_loss = criterion(output.squeeze(), labels.float())\n",
        "  test_losses.append(test_loss.item())\n",
        "\n",
        "  #convert output probabilities to predicted class (0/1)\n",
        "\n",
        "  pred = torch.round(output.squeeze())\n",
        "\n",
        "  correct_tensor = pred.eq(labels.float().view_as(pred))\n",
        "\n",
        "  correct = np.squeeze(correct_tensor.numpy()) if not train_on_gpu else np.squeeze(correct_tensor.cpu().numpy())\n",
        "\n",
        "  num_correct += np.sum(correct)\n",
        "\n",
        "print(\"Test Loss ; {:.3f}\".format(np.mean(test_losses)))\n",
        "\n",
        "test_acc = num_correct/len(test_loader.dataset)\n",
        "\n",
        "print(\"Test accuracy : {:.3f}\".format(test_acc))"
      ],
      "execution_count": null,
      "outputs": [
        {
          "output_type": "stream",
          "text": [
            "Test Loss ; 0.462\n",
            "Test accuracy : 0.820\n"
          ],
          "name": "stdout"
        }
      ]
    },
    {
      "cell_type": "code",
      "metadata": {
        "id": "yJEroyuNQlHn"
      },
      "source": [
        "# negative test review\n",
        "test_review_neg = 'The worst movie I have seen; acting was terrible and I want my money back. This movie had bad acting and the dialogue was slow.'\n"
      ],
      "execution_count": null,
      "outputs": []
    },
    {
      "cell_type": "code",
      "metadata": {
        "colab": {
          "base_uri": "https://localhost:8080/"
        },
        "id": "kpxrb52aRxY2",
        "outputId": "223488ac-1589-4f56-9088-788ef5db6dcf"
      },
      "source": [
        "from string import punctuation\n",
        "\n",
        "def tokenize_review(test_review):\n",
        "  test_review = test_review.lower()\n",
        "\n",
        "  test_text = \"\".join([c for c in test_review if c not in punctuation])\n",
        "\n",
        "  test_words = test_text.split()\n",
        "\n",
        "  test_ints = []\n",
        "  test_ints.append([vocab_to_int.get(word, 0) for word in test_words])\n",
        "\n",
        "  return test_ints\n",
        "\n",
        "test_ints = tokenize_review(test_review_neg)\n",
        "\n",
        "print(test_ints)"
      ],
      "execution_count": null,
      "outputs": [
        {
          "output_type": "stream",
          "text": [
            "[[1, 247, 18, 10, 28, 108, 113, 14, 388, 2, 10, 181, 60, 273, 144, 11, 18, 68, 76, 113, 2, 1, 410, 14, 539]]\n"
          ],
          "name": "stdout"
        }
      ]
    },
    {
      "cell_type": "code",
      "metadata": {
        "colab": {
          "base_uri": "https://localhost:8080/"
        },
        "id": "2vL2Vg4ySjWo",
        "outputId": "33b943cf-f4c4-46fd-d2ce-b154941382ad"
      },
      "source": [
        "seq_lenght = 100\n",
        "features = pad_features(test_ints, seq_length)\n",
        "\n",
        "print(features)"
      ],
      "execution_count": null,
      "outputs": [
        {
          "output_type": "stream",
          "text": [
            "[[  0   0   0   0   0   0   0   0   0   0   0   0   0   0   0   0   0   0\n",
            "    0   0   0   0   0   0   0   0   0   0   0   0   0   0   0   0   0   0\n",
            "    0   0   0   0   0   0   0   0   0   0   0   0   0   0   0   0   0   0\n",
            "    0   0   0   0   0   0   0   0   0   0   0   0   0   0   0   0   0   0\n",
            "    0   0   0   0   0   0   0   0   0   0   0   0   0   0   0   0   0   0\n",
            "    0   0   0   0   0   0   0   0   0   0   0   0   0   0   0   0   0   0\n",
            "    0   0   0   0   0   0   0   0   0   0   0   0   0   0   0   0   0   0\n",
            "    0   0   0   0   0   0   0   0   0   0   0   0   0   0   0   0   0   0\n",
            "    0   0   0   0   0   0   0   0   0   0   0   0   0   0   0   0   0   0\n",
            "    0   0   0   0   0   0   0   0   0   0   0   0   0   1 247  18  10  28\n",
            "  108 113  14 388   2  10 181  60 273 144  11  18  68  76 113   2   1 410\n",
            "   14 539]]\n"
          ],
          "name": "stdout"
        }
      ]
    },
    {
      "cell_type": "code",
      "metadata": {
        "colab": {
          "base_uri": "https://localhost:8080/"
        },
        "id": "wfYjqx6aS3OH",
        "outputId": "6adbd56e-a5dd-4bbe-903f-4a33f96012f1"
      },
      "source": [
        "feature_tensor = torch.from_numpy(features)\n",
        "print(feature_tensor.size())"
      ],
      "execution_count": null,
      "outputs": [
        {
          "output_type": "stream",
          "text": [
            "torch.Size([1, 200])\n"
          ],
          "name": "stdout"
        }
      ]
    },
    {
      "cell_type": "code",
      "metadata": {
        "id": "1KfevqsHS_1B"
      },
      "source": [
        "def predict(net, test_review, sequence_length=200):\n",
        "\n",
        "    net.eval()\n",
        "\n",
        "    # tokenize review\n",
        "    test_ints = tokenize_review(test_review)\n",
        "\n",
        "    # pad tokenized sequence\n",
        "    seq_length=sequence_length\n",
        "    features = pad_features(test_ints, seq_length)\n",
        "\n",
        "    # convert to tensor to pass into your model\n",
        "    feature_tensor = torch.from_numpy(features)\n",
        "\n",
        "    batch_size = feature_tensor.size(0)\n",
        "\n",
        "    # initialize hidden state\n",
        "    h = net.init_hidden(batch_size)\n",
        "\n",
        "    if(train_on_gpu):\n",
        "        feature_tensor = feature_tensor.cuda()\n",
        "\n",
        "    # get the output from the model\n",
        "    output, h = net(feature_tensor, h)\n",
        "\n",
        "    # convert output probabilities to predicted class (0 or 1)\n",
        "    pred = torch.round(output.squeeze())\n",
        "    # printing output value, before rounding\n",
        "    print('Prediction value, pre-rounding: {:.6f}'.format(output.item()))\n",
        "\n",
        "    # print custom response\n",
        "    if(pred.item()==1):\n",
        "        print(\"Positive review detected!\")\n",
        "    else:\n",
        "        print(\"Negative review detected.\")\n",
        ""
      ],
      "execution_count": null,
      "outputs": []
    },
    {
      "cell_type": "code",
      "metadata": {
        "colab": {
          "base_uri": "https://localhost:8080/"
        },
        "id": "EOCtNed7TEIR",
        "outputId": "f2b82760-8a47-4306-b48c-c6016a796580"
      },
      "source": [
        "# call function\n",
        "seq_length=200 # good to use the length that was trained on\n",
        "\n",
        "predict(net, test_review_neg, seq_length)"
      ],
      "execution_count": null,
      "outputs": [
        {
          "output_type": "stream",
          "text": [
            "Prediction value, pre-rounding: 0.012903\n",
            "Negative review detected.\n"
          ],
          "name": "stdout"
        }
      ]
    },
    {
      "cell_type": "code",
      "metadata": {
        "id": "9vTvTrkeTIXd"
      },
      "source": [
        "# positive test review\n",
        "test_review_pos = 'This movie had the best acting and the dialogue was so good. I loved it.'\n"
      ],
      "execution_count": null,
      "outputs": []
    },
    {
      "cell_type": "code",
      "metadata": {
        "id": "r6D9gbomTOwd",
        "outputId": "a1a42080-d1ec-4d87-a4dd-77dc900a3de8",
        "colab": {
          "base_uri": "https://localhost:8080/"
        }
      },
      "source": [
        "predict(net, test_review_pos, seq_length)"
      ],
      "execution_count": null,
      "outputs": [
        {
          "output_type": "stream",
          "text": [
            "Prediction value, pre-rounding: 0.968728\n",
            "Positive review detected!\n"
          ],
          "name": "stdout"
        }
      ]
    },
    {
      "cell_type": "code",
      "metadata": {
        "id": "fvklCLYGTS0b"
      },
      "source": [],
      "execution_count": null,
      "outputs": []
    }
  ]
}